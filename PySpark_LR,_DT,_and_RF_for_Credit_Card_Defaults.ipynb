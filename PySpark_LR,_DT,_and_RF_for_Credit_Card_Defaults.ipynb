{
  "nbformat": 4,
  "nbformat_minor": 0,
  "metadata": {
    "application/vnd.databricks.v1+notebook": {
      "notebookName": "CC Default",
      "dashboards": [],
      "notebookMetadata": {
        "pythonIndentUnit": 2
      },
      "language": "python",
      "widgets": {},
      "notebookOrigID": 4298891430483743
    },
    "colab": {
      "name": "PySpark_LR, DT, and RF_for_Credit_Card_Defaults.ipynb",
      "provenance": []
    }
  },
  "cells": [
    {
      "cell_type": "code",
      "metadata": {
        "application/vnd.databricks.v1+cell": {
          "title": "",
          "showTitle": false,
          "inputWidgets": {},
          "nuid": "b3494430-5ddd-4c35-b41b-7bf50af2d372"
        },
        "id": "SHUADQJCbe9B",
        "outputId": "8dfff4db-42ba-4b5c-bddb-ad35708daedd"
      },
      "source": [
        "from pyspark.sql import SparkSession\n",
        "from pyspark.ml.classification import LogisticRegression\n",
        "from pyspark.ml.linalg import Vectors\n",
        "from pyspark.ml.feature import VectorAssembler\n",
        "from pyspark.ml.feature import StringIndexer\n",
        "from pyspark.sql.functions import isnan, when, count, col\n",
        "from pyspark.ml.evaluation import BinaryClassificationEvaluator\n",
        "from pyspark.ml.classification import DecisionTreeClassifier\n",
        "from pyspark.ml.classification import RandomForestClassifier\n",
        "from pyspark.ml.evaluation import MulticlassClassificationEvaluator\n",
        "\n",
        "import sklearn \n",
        "from sklearn.metrics import classification_report, confusion_matrix"
      ],
      "execution_count": null,
      "outputs": [
        {
          "output_type": "display_data",
          "data": {
            "text/html": [
              "<style scoped>\n",
              "  .ansiout {\n",
              "    display: block;\n",
              "    unicode-bidi: embed;\n",
              "    white-space: pre-wrap;\n",
              "    word-wrap: break-word;\n",
              "    word-break: break-all;\n",
              "    font-family: \"Source Code Pro\", \"Menlo\", monospace;;\n",
              "    font-size: 13px;\n",
              "    color: #555;\n",
              "    margin-left: 4px;\n",
              "    line-height: 19px;\n",
              "  }\n",
              "</style>\n",
              "<div class=\"ansiout\"></div>"
            ]
          },
          "metadata": {
            "tags": [],
            "application/vnd.databricks.v1+output": {
              "datasetInfos": [],
              "data": "<div class=\"ansiout\"></div>",
              "removedWidgets": [],
              "addedWidgets": {},
              "type": "html",
              "arguments": {}
            }
          }
        }
      ]
    },
    {
      "cell_type": "code",
      "metadata": {
        "application/vnd.databricks.v1+cell": {
          "title": "",
          "showTitle": false,
          "inputWidgets": {},
          "nuid": "e4d16578-c897-49c7-9f62-26b1abe3a771"
        },
        "id": "wl8WTKjYbe9N",
        "outputId": "b5a94e46-c75f-4f08-ba86-95ee28351c89"
      },
      "source": [
        "spark = SparkSession.builder.appName('CCDefault').getOrCreate()"
      ],
      "execution_count": null,
      "outputs": [
        {
          "output_type": "display_data",
          "data": {
            "text/html": [
              "<style scoped>\n",
              "  .ansiout {\n",
              "    display: block;\n",
              "    unicode-bidi: embed;\n",
              "    white-space: pre-wrap;\n",
              "    word-wrap: break-word;\n",
              "    word-break: break-all;\n",
              "    font-family: \"Source Code Pro\", \"Menlo\", monospace;;\n",
              "    font-size: 13px;\n",
              "    color: #555;\n",
              "    margin-left: 4px;\n",
              "    line-height: 19px;\n",
              "  }\n",
              "</style>\n",
              "<div class=\"ansiout\"></div>"
            ]
          },
          "metadata": {
            "tags": [],
            "application/vnd.databricks.v1+output": {
              "datasetInfos": [],
              "data": "<div class=\"ansiout\"></div>",
              "removedWidgets": [],
              "addedWidgets": {},
              "type": "html",
              "arguments": {}
            }
          }
        }
      ]
    },
    {
      "cell_type": "markdown",
      "metadata": {
        "id": "LBJM7W74bkBf"
      },
      "source": [
        "#**Part 1 - Data Preprocessing**"
      ]
    },
    {
      "cell_type": "code",
      "metadata": {
        "application/vnd.databricks.v1+cell": {
          "title": "",
          "showTitle": false,
          "inputWidgets": {},
          "nuid": "26f941f8-9aff-4588-81ae-682daccd3e53"
        },
        "id": "-gtnUoImbe9O",
        "outputId": "653e2223-95f2-4c49-b9dd-09df4fb55c2b"
      },
      "source": [
        "df = spark.read.csv('/FileStore/tables/UCI_Credit_Card.csv',inferSchema=True,header=True)\n",
        "\n",
        "df.printSchema()"
      ],
      "execution_count": null,
      "outputs": [
        {
          "output_type": "display_data",
          "data": {
            "text/html": [
              "<style scoped>\n",
              "  .ansiout {\n",
              "    display: block;\n",
              "    unicode-bidi: embed;\n",
              "    white-space: pre-wrap;\n",
              "    word-wrap: break-word;\n",
              "    word-break: break-all;\n",
              "    font-family: \"Source Code Pro\", \"Menlo\", monospace;;\n",
              "    font-size: 13px;\n",
              "    color: #555;\n",
              "    margin-left: 4px;\n",
              "    line-height: 19px;\n",
              "  }\n",
              "</style>\n",
              "<div class=\"ansiout\">root\n",
              "-- ID: integer (nullable = true)\n",
              "-- LIMIT_BAL: double (nullable = true)\n",
              "-- SEX: integer (nullable = true)\n",
              "-- EDUCATION: integer (nullable = true)\n",
              "-- MARRIAGE: integer (nullable = true)\n",
              "-- AGE: integer (nullable = true)\n",
              "-- PAY_0: integer (nullable = true)\n",
              "-- PAY_2: integer (nullable = true)\n",
              "-- PAY_3: integer (nullable = true)\n",
              "-- PAY_4: integer (nullable = true)\n",
              "-- PAY_5: integer (nullable = true)\n",
              "-- PAY_6: integer (nullable = true)\n",
              "-- BILL_AMT1: double (nullable = true)\n",
              "-- BILL_AMT2: double (nullable = true)\n",
              "-- BILL_AMT3: double (nullable = true)\n",
              "-- BILL_AMT4: double (nullable = true)\n",
              "-- BILL_AMT5: double (nullable = true)\n",
              "-- BILL_AMT6: double (nullable = true)\n",
              "-- PAY_AMT1: double (nullable = true)\n",
              "-- PAY_AMT2: double (nullable = true)\n",
              "-- PAY_AMT3: double (nullable = true)\n",
              "-- PAY_AMT4: double (nullable = true)\n",
              "-- PAY_AMT5: double (nullable = true)\n",
              "-- PAY_AMT6: double (nullable = true)\n",
              "-- default_payment: integer (nullable = true)\n",
              "\n",
              "</div>"
            ]
          },
          "metadata": {
            "tags": [],
            "application/vnd.databricks.v1+output": {
              "datasetInfos": [],
              "data": "<div class=\"ansiout\">root\n |-- ID: integer (nullable = true)\n |-- LIMIT_BAL: double (nullable = true)\n |-- SEX: integer (nullable = true)\n |-- EDUCATION: integer (nullable = true)\n |-- MARRIAGE: integer (nullable = true)\n |-- AGE: integer (nullable = true)\n |-- PAY_0: integer (nullable = true)\n |-- PAY_2: integer (nullable = true)\n |-- PAY_3: integer (nullable = true)\n |-- PAY_4: integer (nullable = true)\n |-- PAY_5: integer (nullable = true)\n |-- PAY_6: integer (nullable = true)\n |-- BILL_AMT1: double (nullable = true)\n |-- BILL_AMT2: double (nullable = true)\n |-- BILL_AMT3: double (nullable = true)\n |-- BILL_AMT4: double (nullable = true)\n |-- BILL_AMT5: double (nullable = true)\n |-- BILL_AMT6: double (nullable = true)\n |-- PAY_AMT1: double (nullable = true)\n |-- PAY_AMT2: double (nullable = true)\n |-- PAY_AMT3: double (nullable = true)\n |-- PAY_AMT4: double (nullable = true)\n |-- PAY_AMT5: double (nullable = true)\n |-- PAY_AMT6: double (nullable = true)\n |-- default_payment: integer (nullable = true)\n\n</div>",
              "removedWidgets": [],
              "addedWidgets": {},
              "type": "html",
              "arguments": {}
            }
          }
        }
      ]
    },
    {
      "cell_type": "markdown",
      "metadata": {
        "id": "0wFWT5F1bp4c"
      },
      "source": [
        "**1.1 Cleaning Null Values**"
      ]
    },
    {
      "cell_type": "code",
      "metadata": {
        "application/vnd.databricks.v1+cell": {
          "title": "",
          "showTitle": false,
          "inputWidgets": {},
          "nuid": "39ae647c-3f08-4e05-ae15-94e20798ef8c"
        },
        "id": "iRAgm3dQbe9P",
        "outputId": "a79b57f7-872b-4f2b-e28d-e318ac92c88b"
      },
      "source": [
        "df.select([count(when(isnan(c) | col(c).isNull(), c)).alias(c) for c in df.columns]).show() #no null values"
      ],
      "execution_count": null,
      "outputs": [
        {
          "output_type": "display_data",
          "data": {
            "text/html": [
              "<style scoped>\n",
              "  .ansiout {\n",
              "    display: block;\n",
              "    unicode-bidi: embed;\n",
              "    white-space: pre-wrap;\n",
              "    word-wrap: break-word;\n",
              "    word-break: break-all;\n",
              "    font-family: \"Source Code Pro\", \"Menlo\", monospace;;\n",
              "    font-size: 13px;\n",
              "    color: #555;\n",
              "    margin-left: 4px;\n",
              "    line-height: 19px;\n",
              "  }\n",
              "</style>\n",
              "<div class=\"ansiout\">+---+---------+---+---------+--------+---+-----+-----+-----+-----+-----+-----+---------+---------+---------+---------+---------+---------+--------+--------+--------+--------+--------+--------+---------------+\n",
              " ID|LIMIT_BAL|SEX|EDUCATION|MARRIAGE|AGE|PAY_0|PAY_2|PAY_3|PAY_4|PAY_5|PAY_6|BILL_AMT1|BILL_AMT2|BILL_AMT3|BILL_AMT4|BILL_AMT5|BILL_AMT6|PAY_AMT1|PAY_AMT2|PAY_AMT3|PAY_AMT4|PAY_AMT5|PAY_AMT6|default_payment|\n",
              "+---+---------+---+---------+--------+---+-----+-----+-----+-----+-----+-----+---------+---------+---------+---------+---------+---------+--------+--------+--------+--------+--------+--------+---------------+\n",
              "  0|        0|  0|        0|       0|  0|    0|    0|    0|    0|    0|    0|        0|        0|        0|        0|        0|        0|       0|       0|       0|       0|       0|       0|              0|\n",
              "+---+---------+---+---------+--------+---+-----+-----+-----+-----+-----+-----+---------+---------+---------+---------+---------+---------+--------+--------+--------+--------+--------+--------+---------------+\n",
              "\n",
              "</div>"
            ]
          },
          "metadata": {
            "tags": [],
            "application/vnd.databricks.v1+output": {
              "datasetInfos": [],
              "data": "<div class=\"ansiout\">+---+---------+---+---------+--------+---+-----+-----+-----+-----+-----+-----+---------+---------+---------+---------+---------+---------+--------+--------+--------+--------+--------+--------+---------------+\n| ID|LIMIT_BAL|SEX|EDUCATION|MARRIAGE|AGE|PAY_0|PAY_2|PAY_3|PAY_4|PAY_5|PAY_6|BILL_AMT1|BILL_AMT2|BILL_AMT3|BILL_AMT4|BILL_AMT5|BILL_AMT6|PAY_AMT1|PAY_AMT2|PAY_AMT3|PAY_AMT4|PAY_AMT5|PAY_AMT6|default_payment|\n+---+---------+---+---------+--------+---+-----+-----+-----+-----+-----+-----+---------+---------+---------+---------+---------+---------+--------+--------+--------+--------+--------+--------+---------------+\n|  0|        0|  0|        0|       0|  0|    0|    0|    0|    0|    0|    0|        0|        0|        0|        0|        0|        0|       0|       0|       0|       0|       0|       0|              0|\n+---+---------+---+---------+--------+---+-----+-----+-----+-----+-----+-----+---------+---------+---------+---------+---------+---------+--------+--------+--------+--------+--------+--------+---------------+\n\n</div>",
              "removedWidgets": [],
              "addedWidgets": {},
              "type": "html",
              "arguments": {}
            }
          }
        }
      ]
    },
    {
      "cell_type": "markdown",
      "metadata": {
        "id": "5Labm7EwbuGU"
      },
      "source": [
        "**1.2 Creating Features Column**\n",
        "\n"
      ]
    },
    {
      "cell_type": "code",
      "metadata": {
        "application/vnd.databricks.v1+cell": {
          "title": "",
          "showTitle": false,
          "inputWidgets": {},
          "nuid": "7bbad4bb-f3ab-48c9-aa8d-1c5e1be847e3"
        },
        "id": "dhhvJt7mbe9P",
        "outputId": "dd4a7a57-f896-48e8-f2e0-3d9eda13e30b"
      },
      "source": [
        "assembler = VectorAssembler(inputCols=df.columns[1:-1],\n",
        "                           outputCol='features') \n",
        "#so we're grabbing columns 1 to 2nd last one which are our features. Last column is our label. Column 0 is ID which is not relevant\n",
        "\n",
        "output = assembler.transform(df) #applying our vector assembler to all our data\n",
        "\n",
        "output.select('features').head(1) #notice features is a DenseVector containing all the features we combined"
      ],
      "execution_count": null,
      "outputs": [
        {
          "output_type": "display_data",
          "data": {
            "text/html": [
              "<style scoped>\n",
              "  .ansiout {\n",
              "    display: block;\n",
              "    unicode-bidi: embed;\n",
              "    white-space: pre-wrap;\n",
              "    word-wrap: break-word;\n",
              "    word-break: break-all;\n",
              "    font-family: \"Source Code Pro\", \"Menlo\", monospace;;\n",
              "    font-size: 13px;\n",
              "    color: #555;\n",
              "    margin-left: 4px;\n",
              "    line-height: 19px;\n",
              "  }\n",
              "</style>\n",
              "<div class=\"ansiout\">Out[6]: [Row(features=DenseVector([20000.0, 2.0, 2.0, 1.0, 24.0, 2.0, 2.0, -1.0, -1.0, -2.0, -2.0, 3913.0, 3102.0, 689.0, 0.0, 0.0, 0.0, 0.0, 689.0, 0.0, 0.0, 0.0, 0.0]))]</div>"
            ]
          },
          "metadata": {
            "tags": [],
            "application/vnd.databricks.v1+output": {
              "datasetInfos": [],
              "data": "<div class=\"ansiout\">Out[6]: [Row(features=DenseVector([20000.0, 2.0, 2.0, 1.0, 24.0, 2.0, 2.0, -1.0, -1.0, -2.0, -2.0, 3913.0, 3102.0, 689.0, 0.0, 0.0, 0.0, 0.0, 689.0, 0.0, 0.0, 0.0, 0.0]))]</div>",
              "removedWidgets": [],
              "addedWidgets": {},
              "type": "html",
              "arguments": {}
            }
          }
        }
      ]
    },
    {
      "cell_type": "markdown",
      "metadata": {
        "id": "O-9dn9uobz1O"
      },
      "source": [
        "**1.3 Creating Features and Label Dataframe**"
      ]
    },
    {
      "cell_type": "code",
      "metadata": {
        "application/vnd.databricks.v1+cell": {
          "title": "",
          "showTitle": false,
          "inputWidgets": {},
          "nuid": "2085b895-11cf-4520-8dd9-17501ecc0e57"
        },
        "id": "Z-EcNDoGbe9Q",
        "outputId": "d202d391-757e-43de-f70b-a90ccda8b07f"
      },
      "source": [
        "output.groupBy('default_payment').count().show() #so we got 2 categories for the label"
      ],
      "execution_count": null,
      "outputs": [
        {
          "output_type": "display_data",
          "data": {
            "text/html": [
              "<style scoped>\n",
              "  .ansiout {\n",
              "    display: block;\n",
              "    unicode-bidi: embed;\n",
              "    white-space: pre-wrap;\n",
              "    word-wrap: break-word;\n",
              "    word-break: break-all;\n",
              "    font-family: \"Source Code Pro\", \"Menlo\", monospace;;\n",
              "    font-size: 13px;\n",
              "    color: #555;\n",
              "    margin-left: 4px;\n",
              "    line-height: 19px;\n",
              "  }\n",
              "</style>\n",
              "<div class=\"ansiout\">+---------------+-----+\n",
              "default_payment|count|\n",
              "+---------------+-----+\n",
              "              1| 6636|\n",
              "              0|23364|\n",
              "+---------------+-----+\n",
              "\n",
              "</div>"
            ]
          },
          "metadata": {
            "tags": [],
            "application/vnd.databricks.v1+output": {
              "datasetInfos": [],
              "data": "<div class=\"ansiout\">+---------------+-----+\n|default_payment|count|\n+---------------+-----+\n|              1| 6636|\n|              0|23364|\n+---------------+-----+\n\n</div>",
              "removedWidgets": [],
              "addedWidgets": {},
              "type": "html",
              "arguments": {}
            }
          }
        }
      ]
    },
    {
      "cell_type": "code",
      "metadata": {
        "application/vnd.databricks.v1+cell": {
          "title": "",
          "showTitle": false,
          "inputWidgets": {},
          "nuid": "7ad2a2bf-cdae-441a-b2dd-09f6eeef5b09"
        },
        "id": "SoGgZMxcbe9R",
        "outputId": "2a8f187a-d7f6-47ce-b2d3-cd32db88ef64"
      },
      "source": [
        "df_final = output.select('features', 'default_payment') #so the data we'll be using will be the features and the label\n",
        "\n",
        "df_final.show(3)"
      ],
      "execution_count": null,
      "outputs": [
        {
          "output_type": "display_data",
          "data": {
            "text/html": [
              "<style scoped>\n",
              "  .ansiout {\n",
              "    display: block;\n",
              "    unicode-bidi: embed;\n",
              "    white-space: pre-wrap;\n",
              "    word-wrap: break-word;\n",
              "    word-break: break-all;\n",
              "    font-family: \"Source Code Pro\", \"Menlo\", monospace;;\n",
              "    font-size: 13px;\n",
              "    color: #555;\n",
              "    margin-left: 4px;\n",
              "    line-height: 19px;\n",
              "  }\n",
              "</style>\n",
              "<div class=\"ansiout\">+--------------------+---------------+\n",
              "            features|default_payment|\n",
              "+--------------------+---------------+\n",
              "[20000.0,2.0,2.0,...|              1|\n",
              "[120000.0,2.0,2.0...|              1|\n",
              "[90000.0,2.0,2.0,...|              0|\n",
              "+--------------------+---------------+\n",
              "only showing top 3 rows\n",
              "\n",
              "</div>"
            ]
          },
          "metadata": {
            "tags": [],
            "application/vnd.databricks.v1+output": {
              "datasetInfos": [],
              "data": "<div class=\"ansiout\">+--------------------+---------------+\n|            features|default_payment|\n+--------------------+---------------+\n|[20000.0,2.0,2.0,...|              1|\n|[120000.0,2.0,2.0...|              1|\n|[90000.0,2.0,2.0,...|              0|\n+--------------------+---------------+\nonly showing top 3 rows\n\n</div>",
              "removedWidgets": [],
              "addedWidgets": {},
              "type": "html",
              "arguments": {}
            }
          }
        }
      ]
    },
    {
      "cell_type": "markdown",
      "metadata": {
        "id": "t7g6iy-Ib5de"
      },
      "source": [
        "**1.4 Train Test Split**"
      ]
    },
    {
      "cell_type": "code",
      "metadata": {
        "application/vnd.databricks.v1+cell": {
          "title": "",
          "showTitle": false,
          "inputWidgets": {},
          "nuid": "1c1df5aa-5730-41a3-bdbe-854d0579022f"
        },
        "id": "mFg-pUhPbe9R",
        "outputId": "3a1039f7-cc2a-4ef9-dc3a-a1672d26368d"
      },
      "source": [
        "train, test = df_final.randomSplit([0.75,0.25]) #train will have 80%, test will have 20% of data\n",
        "\n",
        "train.describe().show()"
      ],
      "execution_count": null,
      "outputs": [
        {
          "output_type": "display_data",
          "data": {
            "text/html": [
              "<style scoped>\n",
              "  .ansiout {\n",
              "    display: block;\n",
              "    unicode-bidi: embed;\n",
              "    white-space: pre-wrap;\n",
              "    word-wrap: break-word;\n",
              "    word-break: break-all;\n",
              "    font-family: \"Source Code Pro\", \"Menlo\", monospace;;\n",
              "    font-size: 13px;\n",
              "    color: #555;\n",
              "    margin-left: 4px;\n",
              "    line-height: 19px;\n",
              "  }\n",
              "</style>\n",
              "<div class=\"ansiout\">+-------+-------------------+\n",
              "summary|    default_payment|\n",
              "+-------+-------------------+\n",
              "  count|              22386|\n",
              "   mean|0.22129902617707495|\n",
              " stddev|0.41513066070799065|\n",
              "    min|                  0|\n",
              "    max|                  1|\n",
              "+-------+-------------------+\n",
              "\n",
              "</div>"
            ]
          },
          "metadata": {
            "tags": [],
            "application/vnd.databricks.v1+output": {
              "datasetInfos": [],
              "data": "<div class=\"ansiout\">+-------+-------------------+\n|summary|    default_payment|\n+-------+-------------------+\n|  count|              22386|\n|   mean|0.22129902617707495|\n| stddev|0.41513066070799065|\n|    min|                  0|\n|    max|                  1|\n+-------+-------------------+\n\n</div>",
              "removedWidgets": [],
              "addedWidgets": {},
              "type": "html",
              "arguments": {}
            }
          }
        }
      ]
    },
    {
      "cell_type": "code",
      "metadata": {
        "application/vnd.databricks.v1+cell": {
          "title": "",
          "showTitle": false,
          "inputWidgets": {},
          "nuid": "77c5db07-1ce2-451d-93aa-910a0f0a63d0"
        },
        "id": "1Y88cWkUbe9S",
        "outputId": "9b379da4-8dda-456f-99c2-aa3da972f742"
      },
      "source": [
        "test.describe().show()"
      ],
      "execution_count": null,
      "outputs": [
        {
          "output_type": "display_data",
          "data": {
            "text/html": [
              "<style scoped>\n",
              "  .ansiout {\n",
              "    display: block;\n",
              "    unicode-bidi: embed;\n",
              "    white-space: pre-wrap;\n",
              "    word-wrap: break-word;\n",
              "    word-break: break-all;\n",
              "    font-family: \"Source Code Pro\", \"Menlo\", monospace;;\n",
              "    font-size: 13px;\n",
              "    color: #555;\n",
              "    margin-left: 4px;\n",
              "    line-height: 19px;\n",
              "  }\n",
              "</style>\n",
              "<div class=\"ansiout\">+-------+-------------------+\n",
              "summary|    default_payment|\n",
              "+-------+-------------------+\n",
              "  count|               7614|\n",
              "   mean|0.22090885211452588|\n",
              " stddev| 0.4148864161533842|\n",
              "    min|                  0|\n",
              "    max|                  1|\n",
              "+-------+-------------------+\n",
              "\n",
              "</div>"
            ]
          },
          "metadata": {
            "tags": [],
            "application/vnd.databricks.v1+output": {
              "datasetInfos": [],
              "data": "<div class=\"ansiout\">+-------+-------------------+\n|summary|    default_payment|\n+-------+-------------------+\n|  count|               7614|\n|   mean|0.22090885211452588|\n| stddev| 0.4148864161533842|\n|    min|                  0|\n|    max|                  1|\n+-------+-------------------+\n\n</div>",
              "removedWidgets": [],
              "addedWidgets": {},
              "type": "html",
              "arguments": {}
            }
          }
        }
      ]
    },
    {
      "cell_type": "markdown",
      "metadata": {
        "id": "pqDkxPSpb-L0"
      },
      "source": [
        "#**Part 2 - Creating our Model**\n",
        "**2.1 Logistic Regression Model**"
      ]
    },
    {
      "cell_type": "code",
      "metadata": {
        "application/vnd.databricks.v1+cell": {
          "title": "",
          "showTitle": false,
          "inputWidgets": {},
          "nuid": "38026d8f-6b71-4752-9c4f-cec7b31ebcef"
        },
        "id": "vJ_yGHrWbe9S",
        "outputId": "9dff82bd-2a86-4c9c-a9f4-b278779eab0f"
      },
      "source": [
        "logreg = LogisticRegression(featuresCol='features', labelCol='default_payment', predictionCol='prediction', maxIter=200)\n",
        "\n",
        "logreg_model = logreg.fit(train) #fitting our train data"
      ],
      "execution_count": null,
      "outputs": [
        {
          "output_type": "display_data",
          "data": {
            "text/html": [
              "<style scoped>\n",
              "  .ansiout {\n",
              "    display: block;\n",
              "    unicode-bidi: embed;\n",
              "    white-space: pre-wrap;\n",
              "    word-wrap: break-word;\n",
              "    word-break: break-all;\n",
              "    font-family: \"Source Code Pro\", \"Menlo\", monospace;;\n",
              "    font-size: 13px;\n",
              "    color: #555;\n",
              "    margin-left: 4px;\n",
              "    line-height: 19px;\n",
              "  }\n",
              "</style>\n",
              "<div class=\"ansiout\"></div>"
            ]
          },
          "metadata": {
            "tags": [],
            "application/vnd.databricks.v1+output": {
              "datasetInfos": [],
              "data": "<div class=\"ansiout\"></div>",
              "removedWidgets": [],
              "addedWidgets": {},
              "type": "html",
              "arguments": {}
            }
          }
        }
      ]
    },
    {
      "cell_type": "code",
      "metadata": {
        "application/vnd.databricks.v1+cell": {
          "title": "",
          "showTitle": false,
          "inputWidgets": {},
          "nuid": "37a14dfb-ce47-497b-914f-40a2e02b76ea"
        },
        "id": "NoVyQHSGbe9T",
        "outputId": "4aac2284-0d88-436b-c2ae-ab6deb810dca"
      },
      "source": [
        "pred_logreg = logreg_model.evaluate(test)\n",
        "\n",
        "y_true_logreg = pred_logreg.predictions.select(['default_payment']).collect()\n",
        "y_pred_logreg = pred_logreg.predictions.select(['prediction']).collect()\n",
        "\n",
        "print(classification_report(y_true_logreg, y_pred_logreg))"
      ],
      "execution_count": null,
      "outputs": [
        {
          "output_type": "display_data",
          "data": {
            "text/html": [
              "<style scoped>\n",
              "  .ansiout {\n",
              "    display: block;\n",
              "    unicode-bidi: embed;\n",
              "    white-space: pre-wrap;\n",
              "    word-wrap: break-word;\n",
              "    word-break: break-all;\n",
              "    font-family: \"Source Code Pro\", \"Menlo\", monospace;;\n",
              "    font-size: 13px;\n",
              "    color: #555;\n",
              "    margin-left: 4px;\n",
              "    line-height: 19px;\n",
              "  }\n",
              "</style>\n",
              "<div class=\"ansiout\">              precision    recall  f1-score   support\n",
              "\n",
              "           0       0.82      0.97      0.89      5932\n",
              "           1       0.70      0.25      0.37      1682\n",
              "\n",
              "    accuracy                           0.81      7614\n",
              "   macro avg       0.76      0.61      0.63      7614\n",
              "weighted avg       0.79      0.81      0.77      7614\n",
              "\n",
              "</div>"
            ]
          },
          "metadata": {
            "tags": [],
            "application/vnd.databricks.v1+output": {
              "datasetInfos": [],
              "data": "<div class=\"ansiout\">              precision    recall  f1-score   support\n\n           0       0.82      0.97      0.89      5932\n           1       0.70      0.25      0.37      1682\n\n    accuracy                           0.81      7614\n   macro avg       0.76      0.61      0.63      7614\nweighted avg       0.79      0.81      0.77      7614\n\n</div>",
              "removedWidgets": [],
              "addedWidgets": {},
              "type": "html",
              "arguments": {}
            }
          }
        }
      ]
    },
    {
      "cell_type": "code",
      "metadata": {
        "application/vnd.databricks.v1+cell": {
          "title": "",
          "showTitle": false,
          "inputWidgets": {},
          "nuid": "bb12db2e-71c1-4589-bf72-1b98edcc6089"
        },
        "id": "eW7AZBPgbe9U",
        "outputId": "08a2481f-5432-4e2f-fb6a-54408eb9eeef"
      },
      "source": [
        "print(confusion_matrix(y_true_logreg, y_pred_logreg))"
      ],
      "execution_count": null,
      "outputs": [
        {
          "output_type": "display_data",
          "data": {
            "text/html": [
              "<style scoped>\n",
              "  .ansiout {\n",
              "    display: block;\n",
              "    unicode-bidi: embed;\n",
              "    white-space: pre-wrap;\n",
              "    word-wrap: break-word;\n",
              "    word-break: break-all;\n",
              "    font-family: \"Source Code Pro\", \"Menlo\", monospace;;\n",
              "    font-size: 13px;\n",
              "    color: #555;\n",
              "    margin-left: 4px;\n",
              "    line-height: 19px;\n",
              "  }\n",
              "</style>\n",
              "<div class=\"ansiout\">[[5754  178]\n",
              " [1266  416]]\n",
              "</div>"
            ]
          },
          "metadata": {
            "tags": [],
            "application/vnd.databricks.v1+output": {
              "datasetInfos": [],
              "data": "<div class=\"ansiout\">[[5754  178]\n [1266  416]]\n</div>",
              "removedWidgets": [],
              "addedWidgets": {},
              "type": "html",
              "arguments": {}
            }
          }
        }
      ]
    },
    {
      "cell_type": "markdown",
      "metadata": {
        "id": "1oeJvYxkcHyO"
      },
      "source": [
        "**2.2 Random Forest Model**"
      ]
    },
    {
      "cell_type": "code",
      "metadata": {
        "application/vnd.databricks.v1+cell": {
          "title": "",
          "showTitle": false,
          "inputWidgets": {},
          "nuid": "53da1201-6b57-44fd-ac1b-b3c5fa2e0703"
        },
        "id": "e46LotXWbe9U",
        "outputId": "491d4d02-c4e6-4f37-85c2-08933233015b"
      },
      "source": [
        "rf = RandomForestClassifier(labelCol=\"default_payment\", featuresCol=\"features\", numTrees=10)\n",
        "\n",
        "rf_model = rf.fit(train)"
      ],
      "execution_count": null,
      "outputs": [
        {
          "output_type": "display_data",
          "data": {
            "text/html": [
              "<style scoped>\n",
              "  .ansiout {\n",
              "    display: block;\n",
              "    unicode-bidi: embed;\n",
              "    white-space: pre-wrap;\n",
              "    word-wrap: break-word;\n",
              "    word-break: break-all;\n",
              "    font-family: \"Source Code Pro\", \"Menlo\", monospace;;\n",
              "    font-size: 13px;\n",
              "    color: #555;\n",
              "    margin-left: 4px;\n",
              "    line-height: 19px;\n",
              "  }\n",
              "</style>\n",
              "<div class=\"ansiout\"></div>"
            ]
          },
          "metadata": {
            "tags": [],
            "application/vnd.databricks.v1+output": {
              "datasetInfos": [],
              "data": "<div class=\"ansiout\"></div>",
              "removedWidgets": [],
              "addedWidgets": {},
              "type": "html",
              "arguments": {}
            }
          }
        }
      ]
    },
    {
      "cell_type": "code",
      "metadata": {
        "application/vnd.databricks.v1+cell": {
          "title": "",
          "showTitle": false,
          "inputWidgets": {},
          "nuid": "3e8a420f-d3f7-40dc-a4fd-d059143748e0"
        },
        "id": "0JFUwY29be9U",
        "outputId": "90ce96b1-78d4-4c80-88c9-54caedc3ca02"
      },
      "source": [
        "pred_rf = rf_model.evaluate(test)\n",
        "\n",
        "y_true_rf = pred_rf.predictions.select(['default_payment']).collect()\n",
        "y_pred_rf = pred_rf.predictions.select(['prediction']).collect()\n",
        "\n",
        "print(classification_report(y_true_rf, y_pred_rf))"
      ],
      "execution_count": null,
      "outputs": [
        {
          "output_type": "display_data",
          "data": {
            "text/html": [
              "<style scoped>\n",
              "  .ansiout {\n",
              "    display: block;\n",
              "    unicode-bidi: embed;\n",
              "    white-space: pre-wrap;\n",
              "    word-wrap: break-word;\n",
              "    word-break: break-all;\n",
              "    font-family: \"Source Code Pro\", \"Menlo\", monospace;;\n",
              "    font-size: 13px;\n",
              "    color: #555;\n",
              "    margin-left: 4px;\n",
              "    line-height: 19px;\n",
              "  }\n",
              "</style>\n",
              "<div class=\"ansiout\">              precision    recall  f1-score   support\n",
              "\n",
              "           0       0.84      0.95      0.89      5932\n",
              "           1       0.68      0.34      0.45      1682\n",
              "\n",
              "    accuracy                           0.82      7614\n",
              "   macro avg       0.76      0.65      0.67      7614\n",
              "weighted avg       0.80      0.82      0.79      7614\n",
              "\n",
              "</div>"
            ]
          },
          "metadata": {
            "tags": [],
            "application/vnd.databricks.v1+output": {
              "datasetInfos": [],
              "data": "<div class=\"ansiout\">              precision    recall  f1-score   support\n\n           0       0.84      0.95      0.89      5932\n           1       0.68      0.34      0.45      1682\n\n    accuracy                           0.82      7614\n   macro avg       0.76      0.65      0.67      7614\nweighted avg       0.80      0.82      0.79      7614\n\n</div>",
              "removedWidgets": [],
              "addedWidgets": {},
              "type": "html",
              "arguments": {}
            }
          }
        }
      ]
    },
    {
      "cell_type": "code",
      "metadata": {
        "application/vnd.databricks.v1+cell": {
          "title": "",
          "showTitle": false,
          "inputWidgets": {},
          "nuid": "0be0e0fe-dd77-4b3c-b0f5-ea9264b1404f"
        },
        "id": "FAW9m5pvbe9V",
        "outputId": "11c60569-49cf-45bf-8644-c92848bd41e0"
      },
      "source": [
        "print(confusion_matrix(y_true_rf, y_pred_rf))"
      ],
      "execution_count": null,
      "outputs": [
        {
          "output_type": "display_data",
          "data": {
            "text/html": [
              "<style scoped>\n",
              "  .ansiout {\n",
              "    display: block;\n",
              "    unicode-bidi: embed;\n",
              "    white-space: pre-wrap;\n",
              "    word-wrap: break-word;\n",
              "    word-break: break-all;\n",
              "    font-family: \"Source Code Pro\", \"Menlo\", monospace;;\n",
              "    font-size: 13px;\n",
              "    color: #555;\n",
              "    margin-left: 4px;\n",
              "    line-height: 19px;\n",
              "  }\n",
              "</style>\n",
              "<div class=\"ansiout\">[[5665  267]\n",
              " [1111  571]]\n",
              "</div>"
            ]
          },
          "metadata": {
            "tags": [],
            "application/vnd.databricks.v1+output": {
              "datasetInfos": [],
              "data": "<div class=\"ansiout\">[[5665  267]\n [1111  571]]\n</div>",
              "removedWidgets": [],
              "addedWidgets": {},
              "type": "html",
              "arguments": {}
            }
          }
        }
      ]
    },
    {
      "cell_type": "code",
      "metadata": {
        "application/vnd.databricks.v1+cell": {
          "title": "",
          "showTitle": false,
          "inputWidgets": {},
          "nuid": "8be26886-dce1-403d-99c7-75ec3de0ffc9"
        },
        "id": "9FmB3LOzbe9V",
        "outputId": "489bcbaa-7b38-4dcc-bc5a-1b927c241586"
      },
      "source": [
        "rf_model.featureImportances #looks like index 5 (Column PAY_0) was the largest determining factor"
      ],
      "execution_count": null,
      "outputs": [
        {
          "output_type": "display_data",
          "data": {
            "text/html": [
              "<style scoped>\n",
              "  .ansiout {\n",
              "    display: block;\n",
              "    unicode-bidi: embed;\n",
              "    white-space: pre-wrap;\n",
              "    word-wrap: break-word;\n",
              "    word-break: break-all;\n",
              "    font-family: \"Source Code Pro\", \"Menlo\", monospace;;\n",
              "    font-size: 13px;\n",
              "    color: #555;\n",
              "    margin-left: 4px;\n",
              "    line-height: 19px;\n",
              "  }\n",
              "</style>\n",
              "<div class=\"ansiout\">Out[27]: SparseVector(23, {0: 0.0327, 1: 0.0002, 2: 0.0018, 4: 0.0044, 5: 0.4052, 6: 0.1294, 7: 0.1841, 8: 0.0464, 9: 0.0219, 10: 0.0792, 11: 0.0072, 12: 0.0041, 13: 0.0054, 14: 0.0079, 15: 0.0035, 16: 0.0012, 17: 0.0332, 18: 0.0104, 19: 0.0062, 20: 0.0101, 21: 0.0027, 22: 0.0026})</div>"
            ]
          },
          "metadata": {
            "tags": [],
            "application/vnd.databricks.v1+output": {
              "datasetInfos": [],
              "data": "<div class=\"ansiout\">Out[27]: SparseVector(23, {0: 0.0327, 1: 0.0002, 2: 0.0018, 4: 0.0044, 5: 0.4052, 6: 0.1294, 7: 0.1841, 8: 0.0464, 9: 0.0219, 10: 0.0792, 11: 0.0072, 12: 0.0041, 13: 0.0054, 14: 0.0079, 15: 0.0035, 16: 0.0012, 17: 0.0332, 18: 0.0104, 19: 0.0062, 20: 0.0101, 21: 0.0027, 22: 0.0026})</div>",
              "removedWidgets": [],
              "addedWidgets": {},
              "type": "html",
              "arguments": {}
            }
          }
        }
      ]
    },
    {
      "cell_type": "markdown",
      "metadata": {
        "id": "QMgRr3sbcMFb"
      },
      "source": [
        "**2.3 Decision Tree Model**"
      ]
    },
    {
      "cell_type": "code",
      "metadata": {
        "application/vnd.databricks.v1+cell": {
          "title": "",
          "showTitle": false,
          "inputWidgets": {},
          "nuid": "c909b948-0ce0-46a1-96e6-4b4f005b0d2a"
        },
        "id": "_pVuBkSLbe9W",
        "outputId": "033946fb-4c6d-4a55-e4e2-59b2ddd4c938"
      },
      "source": [
        "dt = DecisionTreeClassifier(labelCol=\"default_payment\", featuresCol=\"features\")\n",
        "\n",
        "dt_model = dt.fit(train)"
      ],
      "execution_count": null,
      "outputs": [
        {
          "output_type": "display_data",
          "data": {
            "text/html": [
              "<style scoped>\n",
              "  .ansiout {\n",
              "    display: block;\n",
              "    unicode-bidi: embed;\n",
              "    white-space: pre-wrap;\n",
              "    word-wrap: break-word;\n",
              "    word-break: break-all;\n",
              "    font-family: \"Source Code Pro\", \"Menlo\", monospace;;\n",
              "    font-size: 13px;\n",
              "    color: #555;\n",
              "    margin-left: 4px;\n",
              "    line-height: 19px;\n",
              "  }\n",
              "</style>\n",
              "<div class=\"ansiout\"></div>"
            ]
          },
          "metadata": {
            "tags": [],
            "application/vnd.databricks.v1+output": {
              "datasetInfos": [],
              "data": "<div class=\"ansiout\"></div>",
              "removedWidgets": [],
              "addedWidgets": {},
              "type": "html",
              "arguments": {}
            }
          }
        }
      ]
    },
    {
      "cell_type": "code",
      "metadata": {
        "application/vnd.databricks.v1+cell": {
          "title": "",
          "showTitle": false,
          "inputWidgets": {},
          "nuid": "85a9a7a2-7274-49ec-bb48-ff75e3eb1939"
        },
        "id": "XvhTV_s-be9W",
        "outputId": "ae338885-856c-4a8d-d008-4f70b0091317"
      },
      "source": [
        "pred_dt = dt_model.transform(test)\n",
        "\n",
        "evaluator = MulticlassClassificationEvaluator(\n",
        "    labelCol=\"default_payment\", predictionCol=\"prediction\", metricName=\"accuracy\")\n",
        "\n",
        "accuracy = evaluator.evaluate(pred_dt)\n",
        "print(\"Test Error = %g \" % (1.0 - accuracy))"
      ],
      "execution_count": null,
      "outputs": [
        {
          "output_type": "display_data",
          "data": {
            "text/html": [
              "<style scoped>\n",
              "  .ansiout {\n",
              "    display: block;\n",
              "    unicode-bidi: embed;\n",
              "    white-space: pre-wrap;\n",
              "    word-wrap: break-word;\n",
              "    word-break: break-all;\n",
              "    font-family: \"Source Code Pro\", \"Menlo\", monospace;;\n",
              "    font-size: 13px;\n",
              "    color: #555;\n",
              "    margin-left: 4px;\n",
              "    line-height: 19px;\n",
              "  }\n",
              "</style>\n",
              "<div class=\"ansiout\">Test Error = 0.179275 \n",
              "</div>"
            ]
          },
          "metadata": {
            "tags": [],
            "application/vnd.databricks.v1+output": {
              "datasetInfos": [],
              "data": "<div class=\"ansiout\">Test Error = 0.179275 \n</div>",
              "removedWidgets": [],
              "addedWidgets": {},
              "type": "html",
              "arguments": {}
            }
          }
        }
      ]
    },
    {
      "cell_type": "code",
      "metadata": {
        "application/vnd.databricks.v1+cell": {
          "title": "",
          "showTitle": false,
          "inputWidgets": {},
          "nuid": "a95afb0b-c9b4-48d3-9c87-377e5666136c"
        },
        "id": "0yXyPKBfbe9W",
        "outputId": "b54e7e2c-5599-4c5c-ffb6-af9006156783"
      },
      "source": [
        "dt_model.featureImportances #looks like index 5 (Column PAY_0) was the largest determining factor once again"
      ],
      "execution_count": null,
      "outputs": [
        {
          "output_type": "display_data",
          "data": {
            "text/html": [
              "<style scoped>\n",
              "  .ansiout {\n",
              "    display: block;\n",
              "    unicode-bidi: embed;\n",
              "    white-space: pre-wrap;\n",
              "    word-wrap: break-word;\n",
              "    word-break: break-all;\n",
              "    font-family: \"Source Code Pro\", \"Menlo\", monospace;;\n",
              "    font-size: 13px;\n",
              "    color: #555;\n",
              "    margin-left: 4px;\n",
              "    line-height: 19px;\n",
              "  }\n",
              "</style>\n",
              "<div class=\"ansiout\">Out[36]: SparseVector(23, {0: 0.0089, 2: 0.0072, 4: 0.003, 5: 0.7789, 6: 0.1543, 7: 0.0128, 10: 0.0157, 11: 0.0046, 13: 0.0037, 16: 0.002, 18: 0.0022, 19: 0.0017, 20: 0.0051})</div>"
            ]
          },
          "metadata": {
            "tags": [],
            "application/vnd.databricks.v1+output": {
              "datasetInfos": [],
              "data": "<div class=\"ansiout\">Out[36]: SparseVector(23, {0: 0.0089, 2: 0.0072, 4: 0.003, 5: 0.7789, 6: 0.1543, 7: 0.0128, 10: 0.0157, 11: 0.0046, 13: 0.0037, 16: 0.002, 18: 0.0022, 19: 0.0017, 20: 0.0051})</div>",
              "removedWidgets": [],
              "addedWidgets": {},
              "type": "html",
              "arguments": {}
            }
          }
        }
      ]
    },
    {
      "cell_type": "code",
      "metadata": {
        "application/vnd.databricks.v1+cell": {
          "title": "",
          "showTitle": false,
          "inputWidgets": {},
          "nuid": "8c26c6a0-493d-4e75-87d7-ac6ec42c8469"
        },
        "id": "tX68sYFzbe9X",
        "outputId": "f1384cdc-4735-4ff8-cf6f-b452d848bcaf"
      },
      "source": [
        ""
      ],
      "execution_count": null,
      "outputs": [
        {
          "output_type": "display_data",
          "data": {
            "text/html": [
              "<style scoped>\n",
              "  .ansiout {\n",
              "    display: block;\n",
              "    unicode-bidi: embed;\n",
              "    white-space: pre-wrap;\n",
              "    word-wrap: break-word;\n",
              "    word-break: break-all;\n",
              "    font-family: \"Source Code Pro\", \"Menlo\", monospace;;\n",
              "    font-size: 13px;\n",
              "    color: #555;\n",
              "    margin-left: 4px;\n",
              "    line-height: 19px;\n",
              "  }\n",
              "</style>"
            ]
          },
          "metadata": {
            "tags": [],
            "application/vnd.databricks.v1+output": {
              "type": "ipynbError",
              "data": "",
              "errorSummary": "",
              "arguments": {}
            }
          }
        }
      ]
    }
  ]
}